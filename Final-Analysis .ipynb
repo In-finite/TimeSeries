{
 "cells": [
  {
   "cell_type": "markdown",
   "metadata": {},
   "source": [
    "__<h1><center>Time Series Modelling</center></h1>__"
   ]
  },
  {
   "cell_type": "markdown",
   "metadata": {},
   "source": [
    "## __Introduction__"
   ]
  },
  {
   "cell_type": "markdown",
   "metadata": {},
   "source": [
    "The dataset that we have considered is based on World War 2. Here we use multiple data sources that are ___Aerial Bombing Operations___ and ___Weather Conditions___ in World War 2. To understand the data better we mainly follow __Exploratory Data Analysis__ approach where Data Description, Data Cleaning, Data Visualization etc are explored. The main focus is to do time series prediction to predict when bombing operations are done."
   ]
  },
  {
   "cell_type": "code",
   "execution_count": 1,
   "metadata": {},
   "outputs": [],
   "source": [
    "import numpy as np\n",
    "import pandas as pd\n",
    "import seaborn as sns\n",
    "import matplotlib.pyplot as plt\n",
    "import plotly.plotly as py\n",
    "import datetime as dt\n",
    "\n",
    "from statsmodels.tsa.stattools import adfuller\n",
    "from statsmodels.tsa.stattools import acf, pacf\n",
    "from statsmodels.tsa.arima_model import ARIMA\n",
    "from sklearn.metrics import mean_squared_error\n",
    "\n",
    "import warnings\n",
    "warnings.filterwarnings(\"ignore\")\n",
    "\n",
    "plt.style.use('fivethirtyeight')"
   ]
  },
  {
   "cell_type": "markdown",
   "metadata": {},
   "source": [
    "### __Load the Data__: Reading and Exploring the data.\n",
    "- Aerial Bombing Operations during World War 2\n",
    "- Weather Conditions during World War 2"
   ]
  },
  {
   "cell_type": "code",
   "execution_count": 2,
   "metadata": {},
   "outputs": [
    {
     "ename": "FileNotFoundError",
     "evalue": "File b'weather_location.csv' does not exist",
     "output_type": "error",
     "traceback": [
      "\u001b[0;31m---------------------------------------------------------------------------\u001b[0m",
      "\u001b[0;31mFileNotFoundError\u001b[0m                         Traceback (most recent call last)",
      "\u001b[0;32m<ipython-input-2-5813ecd129ea>\u001b[0m in \u001b[0;36m<module>\u001b[0;34m()\u001b[0m\n\u001b[1;32m      1\u001b[0m \u001b[0maerial\u001b[0m \u001b[0;34m=\u001b[0m \u001b[0mpd\u001b[0m\u001b[0;34m.\u001b[0m\u001b[0mread_csv\u001b[0m\u001b[0;34m(\u001b[0m\u001b[0;34m'operations.csv'\u001b[0m\u001b[0;34m)\u001b[0m\u001b[0;34m\u001b[0m\u001b[0m\n\u001b[0;32m----> 2\u001b[0;31m \u001b[0mweather_location\u001b[0m \u001b[0;34m=\u001b[0m \u001b[0mpd\u001b[0m\u001b[0;34m.\u001b[0m\u001b[0mread_csv\u001b[0m\u001b[0;34m(\u001b[0m\u001b[0;34m'weather_location.csv'\u001b[0m\u001b[0;34m)\u001b[0m\u001b[0;34m\u001b[0m\u001b[0m\n\u001b[0m\u001b[1;32m      3\u001b[0m \u001b[0mweather_summary\u001b[0m \u001b[0;34m=\u001b[0m \u001b[0mpd\u001b[0m\u001b[0;34m.\u001b[0m\u001b[0mread_csv\u001b[0m\u001b[0;34m(\u001b[0m\u001b[0;34m'summary_weather.csv'\u001b[0m\u001b[0;34m)\u001b[0m\u001b[0;34m\u001b[0m\u001b[0m\n",
      "\u001b[0;32m~/.local/lib/python3.6/site-packages/pandas/io/parsers.py\u001b[0m in \u001b[0;36mparser_f\u001b[0;34m(filepath_or_buffer, sep, delimiter, header, names, index_col, usecols, squeeze, prefix, mangle_dupe_cols, dtype, engine, converters, true_values, false_values, skipinitialspace, skiprows, nrows, na_values, keep_default_na, na_filter, verbose, skip_blank_lines, parse_dates, infer_datetime_format, keep_date_col, date_parser, dayfirst, iterator, chunksize, compression, thousands, decimal, lineterminator, quotechar, quoting, escapechar, comment, encoding, dialect, tupleize_cols, error_bad_lines, warn_bad_lines, skipfooter, doublequote, delim_whitespace, low_memory, memory_map, float_precision)\u001b[0m\n\u001b[1;32m    676\u001b[0m                     skip_blank_lines=skip_blank_lines)\n\u001b[1;32m    677\u001b[0m \u001b[0;34m\u001b[0m\u001b[0m\n\u001b[0;32m--> 678\u001b[0;31m         \u001b[0;32mreturn\u001b[0m \u001b[0m_read\u001b[0m\u001b[0;34m(\u001b[0m\u001b[0mfilepath_or_buffer\u001b[0m\u001b[0;34m,\u001b[0m \u001b[0mkwds\u001b[0m\u001b[0;34m)\u001b[0m\u001b[0;34m\u001b[0m\u001b[0m\n\u001b[0m\u001b[1;32m    679\u001b[0m \u001b[0;34m\u001b[0m\u001b[0m\n\u001b[1;32m    680\u001b[0m     \u001b[0mparser_f\u001b[0m\u001b[0;34m.\u001b[0m\u001b[0m__name__\u001b[0m \u001b[0;34m=\u001b[0m \u001b[0mname\u001b[0m\u001b[0;34m\u001b[0m\u001b[0m\n",
      "\u001b[0;32m~/.local/lib/python3.6/site-packages/pandas/io/parsers.py\u001b[0m in \u001b[0;36m_read\u001b[0;34m(filepath_or_buffer, kwds)\u001b[0m\n\u001b[1;32m    438\u001b[0m \u001b[0;34m\u001b[0m\u001b[0m\n\u001b[1;32m    439\u001b[0m     \u001b[0;31m# Create the parser.\u001b[0m\u001b[0;34m\u001b[0m\u001b[0;34m\u001b[0m\u001b[0m\n\u001b[0;32m--> 440\u001b[0;31m     \u001b[0mparser\u001b[0m \u001b[0;34m=\u001b[0m \u001b[0mTextFileReader\u001b[0m\u001b[0;34m(\u001b[0m\u001b[0mfilepath_or_buffer\u001b[0m\u001b[0;34m,\u001b[0m \u001b[0;34m**\u001b[0m\u001b[0mkwds\u001b[0m\u001b[0;34m)\u001b[0m\u001b[0;34m\u001b[0m\u001b[0m\n\u001b[0m\u001b[1;32m    441\u001b[0m \u001b[0;34m\u001b[0m\u001b[0m\n\u001b[1;32m    442\u001b[0m     \u001b[0;32mif\u001b[0m \u001b[0mchunksize\u001b[0m \u001b[0;32mor\u001b[0m \u001b[0miterator\u001b[0m\u001b[0;34m:\u001b[0m\u001b[0;34m\u001b[0m\u001b[0m\n",
      "\u001b[0;32m~/.local/lib/python3.6/site-packages/pandas/io/parsers.py\u001b[0m in \u001b[0;36m__init__\u001b[0;34m(self, f, engine, **kwds)\u001b[0m\n\u001b[1;32m    785\u001b[0m             \u001b[0mself\u001b[0m\u001b[0;34m.\u001b[0m\u001b[0moptions\u001b[0m\u001b[0;34m[\u001b[0m\u001b[0;34m'has_index_names'\u001b[0m\u001b[0;34m]\u001b[0m \u001b[0;34m=\u001b[0m \u001b[0mkwds\u001b[0m\u001b[0;34m[\u001b[0m\u001b[0;34m'has_index_names'\u001b[0m\u001b[0;34m]\u001b[0m\u001b[0;34m\u001b[0m\u001b[0m\n\u001b[1;32m    786\u001b[0m \u001b[0;34m\u001b[0m\u001b[0m\n\u001b[0;32m--> 787\u001b[0;31m         \u001b[0mself\u001b[0m\u001b[0;34m.\u001b[0m\u001b[0m_make_engine\u001b[0m\u001b[0;34m(\u001b[0m\u001b[0mself\u001b[0m\u001b[0;34m.\u001b[0m\u001b[0mengine\u001b[0m\u001b[0;34m)\u001b[0m\u001b[0;34m\u001b[0m\u001b[0m\n\u001b[0m\u001b[1;32m    788\u001b[0m \u001b[0;34m\u001b[0m\u001b[0m\n\u001b[1;32m    789\u001b[0m     \u001b[0;32mdef\u001b[0m \u001b[0mclose\u001b[0m\u001b[0;34m(\u001b[0m\u001b[0mself\u001b[0m\u001b[0;34m)\u001b[0m\u001b[0;34m:\u001b[0m\u001b[0;34m\u001b[0m\u001b[0m\n",
      "\u001b[0;32m~/.local/lib/python3.6/site-packages/pandas/io/parsers.py\u001b[0m in \u001b[0;36m_make_engine\u001b[0;34m(self, engine)\u001b[0m\n\u001b[1;32m   1012\u001b[0m     \u001b[0;32mdef\u001b[0m \u001b[0m_make_engine\u001b[0m\u001b[0;34m(\u001b[0m\u001b[0mself\u001b[0m\u001b[0;34m,\u001b[0m \u001b[0mengine\u001b[0m\u001b[0;34m=\u001b[0m\u001b[0;34m'c'\u001b[0m\u001b[0;34m)\u001b[0m\u001b[0;34m:\u001b[0m\u001b[0;34m\u001b[0m\u001b[0m\n\u001b[1;32m   1013\u001b[0m         \u001b[0;32mif\u001b[0m \u001b[0mengine\u001b[0m \u001b[0;34m==\u001b[0m \u001b[0;34m'c'\u001b[0m\u001b[0;34m:\u001b[0m\u001b[0;34m\u001b[0m\u001b[0m\n\u001b[0;32m-> 1014\u001b[0;31m             \u001b[0mself\u001b[0m\u001b[0;34m.\u001b[0m\u001b[0m_engine\u001b[0m \u001b[0;34m=\u001b[0m \u001b[0mCParserWrapper\u001b[0m\u001b[0;34m(\u001b[0m\u001b[0mself\u001b[0m\u001b[0;34m.\u001b[0m\u001b[0mf\u001b[0m\u001b[0;34m,\u001b[0m \u001b[0;34m**\u001b[0m\u001b[0mself\u001b[0m\u001b[0;34m.\u001b[0m\u001b[0moptions\u001b[0m\u001b[0;34m)\u001b[0m\u001b[0;34m\u001b[0m\u001b[0m\n\u001b[0m\u001b[1;32m   1015\u001b[0m         \u001b[0;32melse\u001b[0m\u001b[0;34m:\u001b[0m\u001b[0;34m\u001b[0m\u001b[0m\n\u001b[1;32m   1016\u001b[0m             \u001b[0;32mif\u001b[0m \u001b[0mengine\u001b[0m \u001b[0;34m==\u001b[0m \u001b[0;34m'python'\u001b[0m\u001b[0;34m:\u001b[0m\u001b[0;34m\u001b[0m\u001b[0m\n",
      "\u001b[0;32m~/.local/lib/python3.6/site-packages/pandas/io/parsers.py\u001b[0m in \u001b[0;36m__init__\u001b[0;34m(self, src, **kwds)\u001b[0m\n\u001b[1;32m   1706\u001b[0m         \u001b[0mkwds\u001b[0m\u001b[0;34m[\u001b[0m\u001b[0;34m'usecols'\u001b[0m\u001b[0;34m]\u001b[0m \u001b[0;34m=\u001b[0m \u001b[0mself\u001b[0m\u001b[0;34m.\u001b[0m\u001b[0musecols\u001b[0m\u001b[0;34m\u001b[0m\u001b[0m\n\u001b[1;32m   1707\u001b[0m \u001b[0;34m\u001b[0m\u001b[0m\n\u001b[0;32m-> 1708\u001b[0;31m         \u001b[0mself\u001b[0m\u001b[0;34m.\u001b[0m\u001b[0m_reader\u001b[0m \u001b[0;34m=\u001b[0m \u001b[0mparsers\u001b[0m\u001b[0;34m.\u001b[0m\u001b[0mTextReader\u001b[0m\u001b[0;34m(\u001b[0m\u001b[0msrc\u001b[0m\u001b[0;34m,\u001b[0m \u001b[0;34m**\u001b[0m\u001b[0mkwds\u001b[0m\u001b[0;34m)\u001b[0m\u001b[0;34m\u001b[0m\u001b[0m\n\u001b[0m\u001b[1;32m   1709\u001b[0m \u001b[0;34m\u001b[0m\u001b[0m\n\u001b[1;32m   1710\u001b[0m         \u001b[0mpassed_names\u001b[0m \u001b[0;34m=\u001b[0m \u001b[0mself\u001b[0m\u001b[0;34m.\u001b[0m\u001b[0mnames\u001b[0m \u001b[0;32mis\u001b[0m \u001b[0;32mNone\u001b[0m\u001b[0;34m\u001b[0m\u001b[0m\n",
      "\u001b[0;32mpandas/_libs/parsers.pyx\u001b[0m in \u001b[0;36mpandas._libs.parsers.TextReader.__cinit__\u001b[0;34m()\u001b[0m\n",
      "\u001b[0;32mpandas/_libs/parsers.pyx\u001b[0m in \u001b[0;36mpandas._libs.parsers.TextReader._setup_parser_source\u001b[0;34m()\u001b[0m\n",
      "\u001b[0;31mFileNotFoundError\u001b[0m: File b'weather_location.csv' does not exist"
     ]
    }
   ],
   "source": [
    "aerial = pd.read_csv('operations.csv')\n",
    "weather_location = pd.read_csv('weather_location.csv')\n",
    "weather_summary = pd.read_csv('summary_weather.csv')"
   ]
  },
  {
   "cell_type": "markdown",
   "metadata": {},
   "source": [
    "### __Data Description__: Explaining the features of the data.\n",
    "- Aerial Bombing Operations during World War 2\n",
    "- Weather Condition during World War 2"
   ]
  },
  {
   "cell_type": "markdown",
   "metadata": {},
   "source": [
    "### __Data Cleaning__: Dropping the NaN values from the data for Visualization purpose."
   ]
  },
  {
   "cell_type": "code",
   "execution_count": null,
   "metadata": {},
   "outputs": [],
   "source": [
    "aerial = aerial[pd.isna(aerial.Country)==False]\n",
    "aerial = aerial[pd.isna(aerial['Target Longitude'])==False]\n",
    "aerial = aerial[pd.isna(aerial['Takeoff Longitude'])==False]\n",
    "\n",
    "drop_list = ['Mission ID','Unit ID','Target ID','Altitude (Hundreds of Feet)','Airborne Aircraft',\n",
    "             'Attacking Aircraft','Bombing Aircraft','Aircraft Returned','Aircraft Failed',\n",
    "             'Aircraft Damaged','Aircraft Lost','High Explosives', 'High Explosives Type',\n",
    "             'Mission Type','High Explosives Weight (Pounds)','High Explosives Weight (Tons)',\n",
    "             'Incendiary Devices','Incendiary Devices Type','Incendiary Devices Weight (Pounds)',\n",
    "             'Incendiary Devices Weight (Tons)','Fragmentation Devices','Fragmentation Devices Type',\n",
    "             'Fragmentation Devices Weight (Pounds)','Fragmentation Devices Weight (Tons)',\n",
    "             'Total Weight (Pounds)','Total Weight (Tons)','Time Over Target','Bomb Damage Assessment',\n",
    "             'Source ID']\n",
    "\n",
    "aerial.drop(drop_list, axis=1,inplace = True)\n",
    "aerial = aerial[ aerial.iloc[:,8]!=\"4248\"]\n",
    "aerial = aerial[ aerial.iloc[:,9]!=1355]"
   ]
  },
  {
   "cell_type": "code",
   "execution_count": null,
   "metadata": {},
   "outputs": [],
   "source": [
    "weather_summary = weather_summary.loc[:,[\"STA\",\"Date\",\"MeanTemp\"]]\n",
    "weather_location = weather_location.loc[:,[\"WBAN\",\"NAME\",\"STATE/COUNTRY ID\",\"Latitude\",\"Longitude\"]]"
   ]
  },
  {
   "cell_type": "markdown",
   "metadata": {},
   "source": [
    "### __Data Visualization__: Basics of visualization to understand the data."
   ]
  },
  {
   "cell_type": "code",
   "execution_count": null,
   "metadata": {},
   "outputs": [],
   "source": [
    "print(aerial['Country'].value_counts())\n",
    "plt.figure(figsize=(20, 10))\n",
    "sns.countplot(aerial['Country'])\n",
    "plt.title('Countries')\n",
    "plt.show()"
   ]
  },
  {
   "cell_type": "code",
   "execution_count": null,
   "metadata": {},
   "outputs": [],
   "source": [
    "# Top Target Countries\n",
    "print(aerial['Target Country'].value_counts()[:10])\n",
    "plt.figure(figsize=(20, 10))\n",
    "sns.countplot(aerial['Target Country'])\n",
    "plt.xticks(rotation=90)\n",
    "plt.title('Target Countries')\n",
    "plt.show()"
   ]
  },
  {
   "cell_type": "code",
   "execution_count": null,
   "metadata": {
    "scrolled": false
   },
   "outputs": [],
   "source": [
    "# Aircraft Series\n",
    "aircraft = aerial['Aircraft Series'].value_counts()[:10]\n",
    "print(aircraft[:10])\n",
    "plt.figure(figsize=(20, 10))\n",
    "sns.countplot(aerial['Aircraft Series'])\n",
    "plt.title('Aircraft Series')\n",
    "plt.xticks(rotation=90)\n",
    "plt.show()"
   ]
  },
  {
   "cell_type": "markdown",
   "metadata": {},
   "source": [
    "- Now we will focus on USA and BURMA war.\n",
    "- In this war USA bomb BURMA (Katha city) from 1942 to 1945.\n",
    "- The closest weather station to this war is __BINDUKURI__ and it has temperature record from 1943 to 1945."
   ]
  },
  {
   "cell_type": "code",
   "execution_count": null,
   "metadata": {
    "scrolled": false
   },
   "outputs": [],
   "source": [
    "weather_station_id = weather_location[weather_location.NAME == 'BINDUKARI'].WBAN\n",
    "weather_bin = weather_summary[weather_summary.STA == 32907]\n",
    "weather_bin[\"Date\"] = pd.to_datetime(weather_bin[\"Date\"])\n",
    "plt.figure(figsize=(20 ,10))\n",
    "plt.plot(weather_bin.Date, weather_bin.MeanTemp)\n",
    "plt.title(\"Mean Temperature of Bindukuri Area\")\n",
    "plt.xlabel(\"Date\")\n",
    "plt.ylabel(\"Mean Temperature\")\n",
    "plt.show()"
   ]
  },
  {
   "cell_type": "markdown",
   "metadata": {},
   "source": [
    "### __Observation__\n",
    "- As observed we can see temperature oscillates between 12 and 32 degrees.\n",
    "- Temperature of winter months is colder than temperature of summer months."
   ]
  },
  {
   "cell_type": "code",
   "execution_count": null,
   "metadata": {},
   "outputs": [],
   "source": [
    "aerial = pd.read_csv('operations.csv')\n",
    "aerial['year'] = [each.split('/')[2] for each in aerial['Mission Date']]\n",
    "aerial['month'] = [each.split('/')[0] for each in aerial['Mission Date']]\n",
    "aerial = aerial[aerial['year'] >= '1943']\n",
    "aerial = aerial[aerial['month'] >= '8']\n",
    "\n",
    "aerial['Mission Date'] = pd.to_datetime(aerial['Mission Date'])\n",
    "\n",
    "attack = 'USA'\n",
    "target = 'BURMA'\n",
    "city = 'KATHA'\n",
    "\n",
    "aerial_war = aerial[aerial.Country == attack]\n",
    "aerial_war = aerial_war[aerial_war[\"Target Country\"] == target]\n",
    "aerial_war = aerial_war[aerial_war[\"Target City\"] == city]"
   ]
  },
  {
   "cell_type": "markdown",
   "metadata": {},
   "source": [
    "### __Prediction__: Time Series Prediction with ARIMA."
   ]
  },
  {
   "cell_type": "markdown",
   "metadata": {},
   "source": [
    "* $ARIMA$: AutoRegressive Integrated Moving Average"
   ]
  },
  {
   "cell_type": "markdown",
   "metadata": {},
   "source": [
    "### __Basic Milestones__\n",
    " * To check for Stationarity of the Time Series data.<br>\n",
    " * To obtain Dickey-Fuller Test and compare the test statistic with the critical value.<br>\n",
    " * To obtain ACF and PACF plots and measure the correlation between time series and lagged version.<br>\n",
    " * To obtain the predictions and forecast the future values and reduce the error factor."
   ]
  },
  {
   "cell_type": "markdown",
   "metadata": {},
   "source": [
    "### __Stationarity of Time Series__"
   ]
  },
  {
   "cell_type": "markdown",
   "metadata": {},
   "source": [
    "- There are three basic criterion for a time series to understand whether it is stationary series or not.\n",
    "    - Statistical properties of time series such as mean, variance should remain constant over time.\n",
    "        - Constant Mean\n",
    "        - Constant Variance\n",
    "        - Auto-covariance should not depend on time (covariance between time series and lagged time series)."
   ]
  },
  {
   "cell_type": "code",
   "execution_count": null,
   "metadata": {},
   "outputs": [],
   "source": [
    "# lets create time series from weather\n",
    "timeSeries = weather_bin.loc[:, ['Date', 'MeanTemp']]\n",
    "timeSeries.index = timeSeries.Date\n",
    "ts = timeSeries.drop('Date', axis=1)"
   ]
  },
  {
   "cell_type": "markdown",
   "metadata": {},
   "source": [
    "We check stationarity of time series using the following methods\n",
    "- __Plotting Rolling Statistics__: Suppose if we have a window lets say window size is 6 and we find rolling mean and rolling variance to check stationary.\n",
    "- __Dickey-Fuller Test__: The test results comprise of a Test Statistic and some Critical Values for difference confidence levels. If the test statistic is less than the critical value, we can say that time series is stationary."
   ]
  },
  {
   "cell_type": "code",
   "execution_count": null,
   "metadata": {},
   "outputs": [],
   "source": [
    "def check_adfuller(ts):\n",
    "    # Dickey-Fuller test\n",
    "    result = adfuller(ts, autolag='AIC')\n",
    "    print('Test statistic: ' , result[0])\n",
    "    print('p-value: '  ,result[1])\n",
    "    print('Critical Values:' ,result[4])\n",
    "\n",
    "def check_mean_std(ts):\n",
    "    # Rolling statistics\n",
    "    rolmean = ts.rolling(window=6).mean()\n",
    "    rolstd = ts.rolling(window=6).std()\n",
    "    plt.figure(figsize=(20, 10))   \n",
    "    orig = plt.plot(ts, color='red', label='Original')\n",
    "    mean = plt.plot(rolmean, color='black', label='Rolling Mean')\n",
    "    std = plt.plot(rolstd, color='green', label='Rolling Std')\n",
    "    plt.xlabel(\"Date\")\n",
    "    plt.ylabel(\"Mean Temperature\")\n",
    "    plt.title('Rolling Mean & Standard Deviation')\n",
    "    plt.legend()\n",
    "    plt.show()\n",
    "\n",
    "# check stationary: mean, variance(std) and adfuller test\n",
    "check_mean_std(ts)\n",
    "check_adfuller(ts.MeanTemp)"
   ]
  },
  {
   "cell_type": "markdown",
   "metadata": {},
   "source": [
    "### __Observation__"
   ]
  },
  {
   "cell_type": "markdown",
   "metadata": {},
   "source": [
    "From the above plot we can infer that:\n",
    "- Mean is not constant $\\rightarrow$ non-stationary\n",
    "- Variance is contant $\\rightarrow$ stationary\n",
    "- Test statistic $>$ critical value $\\rightarrow$ non-stationary"
   ]
  },
  {
   "cell_type": "markdown",
   "metadata": {},
   "source": [
    "Therefore, time series is not stationary"
   ]
  },
  {
   "cell_type": "markdown",
   "metadata": {},
   "source": [
    "### __Making the time series data stationary__"
   ]
  },
  {
   "cell_type": "markdown",
   "metadata": {},
   "source": [
    "- There are mainly two reasons behind non-stationarity of time series\n",
    "    - __Trend__: Mean varies over time.\n",
    "    - __Seasonality__: Variations at specific time. Constant variance is required.\n",
    "- Stationarity can be acheived by\n",
    "    - __Differencing method__: This method is one of the most common methods. The idea is that we take the difference between time series and shifted time series."
   ]
  },
  {
   "cell_type": "code",
   "execution_count": null,
   "metadata": {},
   "outputs": [],
   "source": [
    "# differencing method\n",
    "ts_diff = ts - ts.shift()\n",
    "plt.figure(figsize=(20, 10))\n",
    "plt.plot(ts_diff)\n",
    "plt.title(\"Differencing method\") \n",
    "plt.xlabel(\"Date\")\n",
    "plt.ylabel(\"Differencing Mean Temperature\")\n",
    "plt.show()"
   ]
  },
  {
   "cell_type": "markdown",
   "metadata": {},
   "source": [
    "From the above plot we infer that the mean is constant."
   ]
  },
  {
   "cell_type": "code",
   "execution_count": null,
   "metadata": {},
   "outputs": [],
   "source": [
    "ts_diff.dropna(inplace=True) # due to shifting there are nan values\n",
    "\n",
    "# check stationary: mean, variance(std) and adfuller test\n",
    "check_mean_std(ts_diff)\n",
    "check_adfuller(ts_diff.MeanTemp)"
   ]
  },
  {
   "cell_type": "markdown",
   "metadata": {},
   "source": [
    "### __Observation__"
   ]
  },
  {
   "cell_type": "markdown",
   "metadata": {},
   "source": [
    "- __Constant mean criteria__: Black line indicates that the mean is constant $\\rightarrow$ stationarity\n",
    "- __Constant variance criteria__: Green line indicates that the variance is constant $\\rightarrow$ stationarity\n",
    "- Test statistic is smaller that $1\\%$ critical value, so the series is stationary."
   ]
  },
  {
   "cell_type": "markdown",
   "metadata": {},
   "source": [
    "### __Forecasting a time series__\n",
    "- For prediction(forecasting) we will use ts_diff time series that is result of differencing method.\n",
    "- Also prediction method is ARIMA that is Auto-Regressive Integrated Moving Averages.\n",
    "    - $AR$: Auto-Regressive ($p$): $AR$ terms are just lags of dependent variable. For example if we take $$p = 3$$ we will use $x(t-1)$, $x(t-2)$ and $x(t-3)$ to predict $x(t)$.\n",
    "    - $I$: Integrated ($d$): These are the number of non-seasonal differences. For example, in our case we take the first order difference. So we pass that variable and put $$d = 0$$\n",
    "    - $MA$: Moving Averages ($q$): $MA$ terms are lagged forecast errors in prediction equation.\n",
    "- In $ARIMA$ we use $(p, d, q)$ as parameters of the model. We choose these values from two different plots.\n",
    "    - $ACF$: Measurement of the correlation between time series and lagged version of time series.\n",
    "    - $PACF$: Measurement of correlation between the time series and lagged version of time series after eliminatind the variations that have already compared."
   ]
  },
  {
   "cell_type": "code",
   "execution_count": null,
   "metadata": {},
   "outputs": [],
   "source": [
    "# ACF and PACF\n",
    "lag_acf = acf(ts_diff, nlags=20)\n",
    "lag_pacf = pacf(ts_diff, nlags=20, method='ols')\n",
    "\n",
    "# ACF\n",
    "plt.figure(figsize=(20, 10))\n",
    "plt.subplot(121) \n",
    "plt.plot(lag_acf)\n",
    "plt.axhline(y=0, linestyle='--', color='gray')\n",
    "plt.axhline(y=-1.96/np.sqrt(len(ts_diff)), linestyle='--', color='gray')\n",
    "plt.axhline(y=1.96/np.sqrt(len(ts_diff)), linestyle='--', color='gray')\n",
    "plt.title('Autocorrelation Function')\n",
    "\n",
    "# PACF\n",
    "plt.subplot(122)\n",
    "plt.plot(lag_pacf)\n",
    "plt.axhline(y=0, linestyle='--', color='gray')\n",
    "plt.axhline(y=-1.96/np.sqrt(len(ts_diff)), linestyle='--', color='gray')\n",
    "plt.axhline(y=1.96/np.sqrt(len(ts_diff)), linestyle='--', color='gray')\n",
    "plt.title('Partial Autocorrelation Function')\n",
    "\n",
    "plt.tight_layout()\n",
    "plt.show()"
   ]
  },
  {
   "cell_type": "markdown",
   "metadata": {},
   "source": [
    "### __Observation__"
   ]
  },
  {
   "cell_type": "markdown",
   "metadata": {},
   "source": [
    "- From the above plots two dotted lines are the confidence interevals. We use these lines to determine the $p$ and $q$ values\n",
    "    - __Choosing $p$__: The lag value where the PACF chart crosses the upper confidence interval for the first time. $$p = 1$$\n",
    "    - __Choosing $q$__: The lag value where the ACF chart crosses the upper confidence interval for the first time. $$q = 1$$\n",
    "- We will use $(1, 0, 1)$ as parameters of $ARIMA$ model and do the predictions."
   ]
  },
  {
   "cell_type": "code",
   "execution_count": null,
   "metadata": {
    "scrolled": false
   },
   "outputs": [],
   "source": [
    "# fit the model\n",
    "model = ARIMA(ts, order=(1,0,1)) # (ARMA) = (1,0,1)\n",
    "model_fit = model.fit(disp=0)\n",
    "\n",
    "# predict\n",
    "start_index = dt.datetime(1944, 6, 25)\n",
    "end_index = dt.datetime(1945, 5, 31)\n",
    "forecast = model_fit.predict(start=650, end=750)\n",
    "\n",
    "plt.figure(figsize=(20, 10))\n",
    "plt.plot(weather_bin.Date, weather_bin.MeanTemp, label=\"original\")\n",
    "plt.plot(forecast, label=\"predicted\")\n",
    "plt.title(\"Time Series Forecast\")\n",
    "plt.xlabel(\"Date\")\n",
    "plt.ylabel(\"Mean Temperature\")\n",
    "plt.legend()\n",
    "plt.show()"
   ]
  },
  {
   "cell_type": "markdown",
   "metadata": {},
   "source": [
    "### __Mean Squared Error Calculation__"
   ]
  },
  {
   "cell_type": "code",
   "execution_count": null,
   "metadata": {},
   "outputs": [],
   "source": [
    "model2 = ARIMA(ts, order=(1,0,1)) # (ARMA) = (1,0,1)\n",
    "model_fit2 = model2.fit(disp=0)\n",
    "forecast2 = model_fit2.predict()\n",
    "error = mean_squared_error(ts, forecast2)\n",
    "print(\"error: \" ,error)\n",
    "\n",
    "plt.figure(figsize=(20, 10))\n",
    "plt.plot(weather_bin.Date, weather_bin.MeanTemp, label=\"original\")\n",
    "plt.plot(forecast2, label=\"predicted\")\n",
    "plt.title(\"Time Series Forecast\")\n",
    "plt.xlabel(\"Date\")\n",
    "plt.ylabel(\"Mean Temperature\")\n",
    "plt.legend()\n",
    "plt.show()"
   ]
  },
  {
   "cell_type": "markdown",
   "metadata": {},
   "source": [
    "### __Observation__"
   ]
  },
  {
   "cell_type": "markdown",
   "metadata": {},
   "source": [
    "The red curve represents the plot of fitted / predicted values and the black curve represents the plot of observed / original values. Both the plots lie close to each other. This shows that the fitted model has very less error component."
   ]
  },
  {
   "cell_type": "markdown",
   "metadata": {},
   "source": [
    "### __Conclusion__"
   ]
  },
  {
   "cell_type": "markdown",
   "metadata": {},
   "source": [
    "As the introduction suggests the dataset that we have considerd is based on World War 2. Our main focus was to predict and forecast when the next bombing takes place. We have done the forecasting using ARIMA modelling technique and predicted the future values. The model shows less error factor which suggests that the applied model is good. <br> Working with this data we have learnt the preliminary aspects of Data Science and further we would like work on different datasets to get hands on and gain experiance in the field of Data Science."
   ]
  }
 ],
 "metadata": {
  "kernelspec": {
   "display_name": "Python 3",
   "language": "python",
   "name": "python3"
  },
  "language_info": {
   "codemirror_mode": {
    "name": "ipython",
    "version": 3
   },
   "file_extension": ".py",
   "mimetype": "text/x-python",
   "name": "python",
   "nbconvert_exporter": "python",
   "pygments_lexer": "ipython3",
   "version": "3.6.6"
  }
 },
 "nbformat": 4,
 "nbformat_minor": 2
}
