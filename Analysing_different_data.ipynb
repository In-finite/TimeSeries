{
 "cells": [
  {
   "cell_type": "markdown",
   "metadata": {},
   "source": [
    "# Time Series Analysing Of World War Data"
   ]
  },
  {
   "cell_type": "markdown",
   "metadata": {},
   "source": [
    "## In this Notebook We will deal with aerial bombing operations and weather conditions in world war 2"
   ]
  },
  {
   "cell_type": "code",
   "execution_count": 2,
   "metadata": {},
   "outputs": [
    {
     "data": {
      "text/html": [
       "<script type=\"text/javascript\">window.PlotlyConfig = {MathJaxConfig: 'local'};</script><script type=\"text/javascript\">if (window.MathJax) {MathJax.Hub.Config({SVG: {font: \"STIX-Web\"}});}</script><script>requirejs.config({paths: { 'plotly': ['https://cdn.plot.ly/plotly-latest.min']},});if(!window._Plotly) {require(['plotly'],function(plotly) {window._Plotly=plotly;});}</script>"
      ],
      "text/vnd.plotly.v1+html": [
       "<script type=\"text/javascript\">window.PlotlyConfig = {MathJaxConfig: 'local'};</script><script type=\"text/javascript\">if (window.MathJax) {MathJax.Hub.Config({SVG: {font: \"STIX-Web\"}});}</script><script>requirejs.config({paths: { 'plotly': ['https://cdn.plot.ly/plotly-latest.min']},});if(!window._Plotly) {require(['plotly'],function(plotly) {window._Plotly=plotly;});}</script>"
      ]
     },
     "metadata": {},
     "output_type": "display_data"
    }
   ],
   "source": [
    " \n",
    "import numpy as np # linear algebra\n",
    "import pandas as pd # data processing, CSV file I/O (e.g. pd.read_csv)\n",
    "import seaborn as sns # visualization library\n",
    "import matplotlib.pyplot as plt # visualization library\n",
    "import plotly.plotly as py # visualization library\n",
    "from plotly.offline import init_notebook_mode, iplot # plotly offline mode\n",
    "init_notebook_mode(connected=True) \n",
    "import plotly.graph_objs as go # plotly graphical object\n",
    "import os\n",
    "#print(os.listdir(\"../input\"))\n",
    "import warnings            \n",
    "warnings.filterwarnings(\"ignore\") # if there is a warning after some codes, this will avoid us to see them.\n",
    "plt.style.use('ggplot') # style of plots. ggplot is one of the most used style."
   ]
  },
  {
   "cell_type": "markdown",
   "metadata": {},
   "source": [
    "## Load the Data"
   ]
  },
  {
   "cell_type": "markdown",
   "metadata": {},
   "source": [
    "### Aerial Bombing Operations in WW2\n",
    "### Shortly, this data includes bombing operations. For example, USA who use ponte olivo airfield bomb Germany (Berlin) with A36 air craft in 1945."
   ]
  },
  {
   "cell_type": "code",
   "execution_count": 4,
   "metadata": {},
   "outputs": [],
   "source": [
    "# bombing data\n",
    "aerial = pd.read_csv(\"operations.csv\")\n",
    "# first weather data that includes locations like country, latitude and longitude.\n",
    "weather_station_location = pd.read_csv(\"Weather Station Locations.csv\")\n",
    "# Second weather data that includes measured min, max and mean temperatures\n",
    "weather = pd.read_csv(\"Summary of Weather.csv\")"
   ]
  },
  {
   "cell_type": "markdown",
   "metadata": {},
   "source": [
    "## Data Cleaning"
   ]
  },
  {
   "cell_type": "code",
   "execution_count": 10,
   "metadata": {},
   "outputs": [],
   "source": [
    "# drop countries that are NaN\n",
    "aerial = aerial[pd.isna(aerial.Country)==False]\n",
    "# drop if target longitude is NaN\n",
    "aerial = aerial[pd.isna(aerial['Target Longitude'])==False]\n",
    "# Drop if takeoff longitude is NaN\n",
    "aerial = aerial[pd.isna(aerial['Takeoff Longitude'])==False]\n",
    "# drop unused features\n",
    "drop_list = ['Mission ID','Unit ID','Target ID','Altitude (Hundreds of Feet)','Airborne Aircraft',\n",
    "             'Attacking Aircraft', 'Bombing Aircraft', 'Aircraft Returned',\n",
    "             'Aircraft Failed', 'Aircraft Damaged', 'Aircraft Lost',\n",
    "             'High Explosives', 'High Explosives Type','Mission Type',\n",
    "             'High Explosives Weight (Pounds)', 'High Explosives Weight (Tons)',\n",
    "             'Incendiary Devices', 'Incendiary Devices Type',\n",
    "             'Incendiary Devices Weight (Pounds)',\n",
    "             'Incendiary Devices Weight (Tons)', 'Fragmentation Devices',\n",
    "             'Fragmentation Devices Type', 'Fragmentation Devices Weight (Pounds)',\n",
    "             'Fragmentation Devices Weight (Tons)', 'Total Weight (Pounds)',\n",
    "             'Total Weight (Tons)', 'Time Over Target', 'Bomb Damage Assessment','Source ID']\n",
    "\n",
    "#aerial.drop(drop_list, axis=1,inplace = True)\n",
    "aerial = aerial[ aerial.iloc[:,8]!=\"4248\"] # drop this takeoff latitude \n",
    "aerial = aerial[ aerial.iloc[:,9]!=1355]   # drop this takeoff longitude"
   ]
  },
  {
   "cell_type": "code",
   "execution_count": 8,
   "metadata": {},
   "outputs": [
    {
     "name": "stdout",
     "output_type": "stream",
     "text": [
      "<class 'pandas.core.frame.DataFrame'>\n",
      "Int64Index: 2555 entries, 0 to 178080\n",
      "Data columns (total 17 columns):\n",
      "Mission Date             2555 non-null object\n",
      "Theater of Operations    2555 non-null object\n",
      "Country                  2555 non-null object\n",
      "Air Force                2505 non-null object\n",
      "Aircraft Series          2528 non-null object\n",
      "Callsign                 10 non-null object\n",
      "Takeoff Base             2555 non-null object\n",
      "Takeoff Location         2555 non-null object\n",
      "Takeoff Latitude         2555 non-null object\n",
      "Takeoff Longitude        2555 non-null float64\n",
      "Target Country           2499 non-null object\n",
      "Target City              2552 non-null object\n",
      "Target Type              602 non-null object\n",
      "Target Industry          81 non-null object\n",
      "Target Priority          230 non-null object\n",
      "Target Latitude          2555 non-null float64\n",
      "Target Longitude         2555 non-null float64\n",
      "dtypes: float64(3), object(14)\n",
      "memory usage: 359.3+ KB\n"
     ]
    }
   ],
   "source": [
    "aerial.info()"
   ]
  },
  {
   "cell_type": "code",
   "execution_count": 9,
   "metadata": {},
   "outputs": [
    {
     "name": "stdout",
     "output_type": "stream",
     "text": [
      "<class 'pandas.core.frame.DataFrame'>\n",
      "RangeIndex: 161 entries, 0 to 160\n",
      "Data columns (total 5 columns):\n",
      "WBAN                161 non-null int64\n",
      "NAME                161 non-null object\n",
      "STATE/COUNTRY ID    161 non-null object\n",
      "Latitude            161 non-null float64\n",
      "Longitude           161 non-null float64\n",
      "dtypes: float64(2), int64(1), object(2)\n",
      "memory usage: 6.4+ KB\n"
     ]
    }
   ],
   "source": [
    "# what we will use only\n",
    "weather_station_location = weather_station_location.loc[:,[\"WBAN\",\"NAME\",\"STATE/COUNTRY ID\",\"Latitude\",\"Longitude\"] ]\n",
    "weather_station_location.info()"
   ]
  },
  {
   "cell_type": "code",
   "execution_count": null,
   "metadata": {},
   "outputs": [],
   "source": []
  }
 ],
 "metadata": {
  "kernelspec": {
   "display_name": "Python 3",
   "language": "python",
   "name": "python3"
  },
  "language_info": {
   "codemirror_mode": {
    "name": "ipython",
    "version": 3
   },
   "file_extension": ".py",
   "mimetype": "text/x-python",
   "name": "python",
   "nbconvert_exporter": "python",
   "pygments_lexer": "ipython3",
   "version": "3.6.6"
  }
 },
 "nbformat": 4,
 "nbformat_minor": 2
}
